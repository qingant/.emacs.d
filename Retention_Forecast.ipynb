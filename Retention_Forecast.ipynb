{
  "nbformat": 4,
  "nbformat_minor": 0,
  "metadata": {
    "colab": {
      "name": "Retention Forecast.ipynb",
      "provenance": [],
      "collapsed_sections": [
        "UKns7cRQJZn-"
      ],
      "mount_file_id": "1tzlBdqbmks-A07PIEnqvzgXSM3v5fgvJ",
      "authorship_tag": "ABX9TyM6wr84K9CXIaUtkPgEovvZ",
      "include_colab_link": true
    },
    "kernelspec": {
      "name": "python3",
      "display_name": "Python 3"
    }
  },
  "cells": [
    {
      "cell_type": "markdown",
      "metadata": {
        "id": "view-in-github",
        "colab_type": "text"
      },
      "source": [
        "<a href=\"https://colab.research.google.com/github/qingant/.emacs.d/blob/master/Retention_Forecast.ipynb\" target=\"_parent\"><img src=\"https://colab.research.google.com/assets/colab-badge.svg\" alt=\"Open In Colab\"/></a>"
      ]
    },
    {
      "cell_type": "markdown",
      "metadata": {
        "id": "DzD6XZTiwFgN",
        "colab_type": "text"
      },
      "source": [
        "# Retention Forcast\n",
        "\n",
        "1. calculate `MonthlyRetention` by #PoliciesAtLestRemainXMonth/(#PoliciesAtLestRemainXMonth + #ChurnInXthMonth)\n",
        "2. calculate `CumulativeRetention` for Xth month by Y = MonthlyRetention(0)*MonthlyRetention(1)...MonthlyRetention(X)\n",
        "3. fit `CumulativeRetention` with the form `a*log(b*(x+1)) + c`\n",
        "4. calculate `discounted expected lifetime` by `y = retention(0) * discount^0 + retention(1)*discount^1 + retention*discount^2  ...`\n",
        "\n",
        "So if you need LTV and assume we have fixed premium every month, the LTV simply equals `(discounted expected lifetime)*premium`\n",
        "\n",
        "\n",
        "## Expected Lifetime\n",
        "I think  the discounted expected lifetime may make more sense than non-discounted expected lifetime.\n",
        "\n",
        "\n",
        "Discounted Expected Lifetime(years) with no time limit: 4.8\n",
        "\n",
        "\n",
        "Not Discounted Expected Lifetime(years) in 240 months: 7\n",
        "\n",
        "if we did not do discount on expected lifetime, the expected lifetime will be meaningless high because the retention function decrease slower and slower over time.\n",
        "\n",
        "\n",
        "\n",
        "## Fitted Retention in 240 months\n",
        "... too much data points， formula:\n",
        "\n",
        "CulmulativeRetention(x) =  -0.23*log(0.393*(x+1.162)) + 6.423\n",
        "\n",
        "in which x represent the Xth month\n",
        "\n",
        "\n",
        "## Qustions\n",
        "1. is the data correct ? why we did not have big drop around 6th month and 12th month which is usually when the policies terminated\n",
        "2. we assume the retention function is basically some form about log which is reasonable but may not be accurate after maybe 10 years.\n",
        "\n"
      ]
    },
    {
      "cell_type": "markdown",
      "metadata": {
        "id": "UKns7cRQJZn-",
        "colab_type": "text"
      },
      "source": [
        "# Implementation\n"
      ]
    },
    {
      "cell_type": "code",
      "metadata": {
        "id": "jvZSaoSjwDlp",
        "colab_type": "code",
        "cellView": "both",
        "colab": {}
      },
      "source": [
        "#@title\n",
        "import pandas as pd\n",
        "df = pd.read_csv('https://owl.paoying.net/data.csv')\n",
        "df['month'] = df['Months on Book']\n",
        "df['Policies'] = df.Policies.map(lambda x: x if type(x) is int else int(x.replace(',', '')))\n",
        "\n",
        "# retention IN THIS MONTH\n",
        "df['MonthlyRetention'] = df['Policies']/(df['Policies'] + df['Churn'])"
      ],
      "execution_count": null,
      "outputs": []
    },
    {
      "cell_type": "code",
      "metadata": {
        "id": "B9L6Qk-hQz_e",
        "colab_type": "code",
        "cellView": "both",
        "colab": {
          "base_uri": "https://localhost:8080/",
          "height": 793
        },
        "outputId": "c7973e0a-2e6a-4e51-cb1a-0470696ebc6c"
      },
      "source": [
        "#@title\n",
        "df"
      ],
      "execution_count": null,
      "outputs": [
        {
          "output_type": "execute_result",
          "data": {
            "text/html": [
              "<div>\n",
              "<style scoped>\n",
              "    .dataframe tbody tr th:only-of-type {\n",
              "        vertical-align: middle;\n",
              "    }\n",
              "\n",
              "    .dataframe tbody tr th {\n",
              "        vertical-align: top;\n",
              "    }\n",
              "\n",
              "    .dataframe thead th {\n",
              "        text-align: right;\n",
              "    }\n",
              "</style>\n",
              "<table border=\"1\" class=\"dataframe\">\n",
              "  <thead>\n",
              "    <tr style=\"text-align: right;\">\n",
              "      <th></th>\n",
              "      <th>Months on Book</th>\n",
              "      <th>Policies</th>\n",
              "      <th>Churn</th>\n",
              "      <th>Churn %</th>\n",
              "      <th>Cumulative Churn</th>\n",
              "      <th>Cumulative Retention</th>\n",
              "      <th>month</th>\n",
              "      <th>MonthlyRetention</th>\n",
              "    </tr>\n",
              "  </thead>\n",
              "  <tbody>\n",
              "    <tr>\n",
              "      <th>0</th>\n",
              "      <td>1</td>\n",
              "      <td>18140</td>\n",
              "      <td>385</td>\n",
              "      <td>2.12%</td>\n",
              "      <td>2.12%</td>\n",
              "      <td>97.88%</td>\n",
              "      <td>1</td>\n",
              "      <td>0.979217</td>\n",
              "    </tr>\n",
              "    <tr>\n",
              "      <th>1</th>\n",
              "      <td>2</td>\n",
              "      <td>14400</td>\n",
              "      <td>995</td>\n",
              "      <td>6.91%</td>\n",
              "      <td>9.03%</td>\n",
              "      <td>90.97%</td>\n",
              "      <td>2</td>\n",
              "      <td>0.935369</td>\n",
              "    </tr>\n",
              "    <tr>\n",
              "      <th>2</th>\n",
              "      <td>3</td>\n",
              "      <td>11492</td>\n",
              "      <td>552</td>\n",
              "      <td>4.80%</td>\n",
              "      <td>13.84%</td>\n",
              "      <td>86.16%</td>\n",
              "      <td>3</td>\n",
              "      <td>0.954168</td>\n",
              "    </tr>\n",
              "    <tr>\n",
              "      <th>3</th>\n",
              "      <td>4</td>\n",
              "      <td>8994</td>\n",
              "      <td>341</td>\n",
              "      <td>3.79%</td>\n",
              "      <td>17.63%</td>\n",
              "      <td>82.37%</td>\n",
              "      <td>4</td>\n",
              "      <td>0.963471</td>\n",
              "    </tr>\n",
              "    <tr>\n",
              "      <th>4</th>\n",
              "      <td>5</td>\n",
              "      <td>6908</td>\n",
              "      <td>208</td>\n",
              "      <td>3.01%</td>\n",
              "      <td>20.64%</td>\n",
              "      <td>79.36%</td>\n",
              "      <td>5</td>\n",
              "      <td>0.970770</td>\n",
              "    </tr>\n",
              "    <tr>\n",
              "      <th>5</th>\n",
              "      <td>6</td>\n",
              "      <td>4912</td>\n",
              "      <td>109</td>\n",
              "      <td>2.22%</td>\n",
              "      <td>22.86%</td>\n",
              "      <td>77.14%</td>\n",
              "      <td>6</td>\n",
              "      <td>0.978291</td>\n",
              "    </tr>\n",
              "    <tr>\n",
              "      <th>6</th>\n",
              "      <td>7</td>\n",
              "      <td>3515</td>\n",
              "      <td>57</td>\n",
              "      <td>1.62%</td>\n",
              "      <td>24.48%</td>\n",
              "      <td>75.52%</td>\n",
              "      <td>7</td>\n",
              "      <td>0.984043</td>\n",
              "    </tr>\n",
              "    <tr>\n",
              "      <th>7</th>\n",
              "      <td>8</td>\n",
              "      <td>2514</td>\n",
              "      <td>45</td>\n",
              "      <td>1.79%</td>\n",
              "      <td>26.27%</td>\n",
              "      <td>73.73%</td>\n",
              "      <td>8</td>\n",
              "      <td>0.982415</td>\n",
              "    </tr>\n",
              "    <tr>\n",
              "      <th>8</th>\n",
              "      <td>9</td>\n",
              "      <td>1811</td>\n",
              "      <td>19</td>\n",
              "      <td>1.05%</td>\n",
              "      <td>27.32%</td>\n",
              "      <td>72.68%</td>\n",
              "      <td>9</td>\n",
              "      <td>0.989617</td>\n",
              "    </tr>\n",
              "    <tr>\n",
              "      <th>9</th>\n",
              "      <td>10</td>\n",
              "      <td>1374</td>\n",
              "      <td>16</td>\n",
              "      <td>1.16%</td>\n",
              "      <td>28.48%</td>\n",
              "      <td>71.52%</td>\n",
              "      <td>10</td>\n",
              "      <td>0.988489</td>\n",
              "    </tr>\n",
              "    <tr>\n",
              "      <th>10</th>\n",
              "      <td>11</td>\n",
              "      <td>946</td>\n",
              "      <td>7</td>\n",
              "      <td>0.74%</td>\n",
              "      <td>29.22%</td>\n",
              "      <td>70.78%</td>\n",
              "      <td>11</td>\n",
              "      <td>0.992655</td>\n",
              "    </tr>\n",
              "    <tr>\n",
              "      <th>11</th>\n",
              "      <td>12</td>\n",
              "      <td>648</td>\n",
              "      <td>9</td>\n",
              "      <td>1.39%</td>\n",
              "      <td>30.61%</td>\n",
              "      <td>69.39%</td>\n",
              "      <td>12</td>\n",
              "      <td>0.986301</td>\n",
              "    </tr>\n",
              "    <tr>\n",
              "      <th>12</th>\n",
              "      <td>13</td>\n",
              "      <td>444</td>\n",
              "      <td>3</td>\n",
              "      <td>0.68%</td>\n",
              "      <td>31.29%</td>\n",
              "      <td>68.71%</td>\n",
              "      <td>13</td>\n",
              "      <td>0.993289</td>\n",
              "    </tr>\n",
              "    <tr>\n",
              "      <th>13</th>\n",
              "      <td>14</td>\n",
              "      <td>294</td>\n",
              "      <td>1</td>\n",
              "      <td>0.34%</td>\n",
              "      <td>31.63%</td>\n",
              "      <td>68.37%</td>\n",
              "      <td>14</td>\n",
              "      <td>0.996610</td>\n",
              "    </tr>\n",
              "    <tr>\n",
              "      <th>14</th>\n",
              "      <td>15</td>\n",
              "      <td>209</td>\n",
              "      <td>1</td>\n",
              "      <td>0.48%</td>\n",
              "      <td>32.11%</td>\n",
              "      <td>67.89%</td>\n",
              "      <td>15</td>\n",
              "      <td>0.995238</td>\n",
              "    </tr>\n",
              "    <tr>\n",
              "      <th>15</th>\n",
              "      <td>16</td>\n",
              "      <td>153</td>\n",
              "      <td>1</td>\n",
              "      <td>0.65%</td>\n",
              "      <td>32.76%</td>\n",
              "      <td>67.24%</td>\n",
              "      <td>16</td>\n",
              "      <td>0.993506</td>\n",
              "    </tr>\n",
              "    <tr>\n",
              "      <th>16</th>\n",
              "      <td>17</td>\n",
              "      <td>87</td>\n",
              "      <td>1</td>\n",
              "      <td>1.15%</td>\n",
              "      <td>33.91%</td>\n",
              "      <td>66.09%</td>\n",
              "      <td>17</td>\n",
              "      <td>0.988636</td>\n",
              "    </tr>\n",
              "    <tr>\n",
              "      <th>17</th>\n",
              "      <td>18</td>\n",
              "      <td>60</td>\n",
              "      <td>2</td>\n",
              "      <td>3.33%</td>\n",
              "      <td>37.24%</td>\n",
              "      <td>62.76%</td>\n",
              "      <td>18</td>\n",
              "      <td>0.967742</td>\n",
              "    </tr>\n",
              "    <tr>\n",
              "      <th>18</th>\n",
              "      <td>19</td>\n",
              "      <td>31</td>\n",
              "      <td>1</td>\n",
              "      <td>3.23%</td>\n",
              "      <td>40.47%</td>\n",
              "      <td>59.53%</td>\n",
              "      <td>19</td>\n",
              "      <td>0.968750</td>\n",
              "    </tr>\n",
              "    <tr>\n",
              "      <th>19</th>\n",
              "      <td>20</td>\n",
              "      <td>16</td>\n",
              "      <td>0</td>\n",
              "      <td>0.00%</td>\n",
              "      <td>40.47%</td>\n",
              "      <td>59.53%</td>\n",
              "      <td>20</td>\n",
              "      <td>1.000000</td>\n",
              "    </tr>\n",
              "    <tr>\n",
              "      <th>20</th>\n",
              "      <td>21</td>\n",
              "      <td>14</td>\n",
              "      <td>0</td>\n",
              "      <td>0.00%</td>\n",
              "      <td>40.47%</td>\n",
              "      <td>59.53%</td>\n",
              "      <td>21</td>\n",
              "      <td>1.000000</td>\n",
              "    </tr>\n",
              "    <tr>\n",
              "      <th>21</th>\n",
              "      <td>22</td>\n",
              "      <td>14</td>\n",
              "      <td>0</td>\n",
              "      <td>0.00%</td>\n",
              "      <td>40.47%</td>\n",
              "      <td>59.53%</td>\n",
              "      <td>22</td>\n",
              "      <td>1.000000</td>\n",
              "    </tr>\n",
              "    <tr>\n",
              "      <th>22</th>\n",
              "      <td>23</td>\n",
              "      <td>9</td>\n",
              "      <td>0</td>\n",
              "      <td>0.00%</td>\n",
              "      <td>40.47%</td>\n",
              "      <td>59.53%</td>\n",
              "      <td>23</td>\n",
              "      <td>1.000000</td>\n",
              "    </tr>\n",
              "    <tr>\n",
              "      <th>23</th>\n",
              "      <td>24</td>\n",
              "      <td>6</td>\n",
              "      <td>0</td>\n",
              "      <td>0.00%</td>\n",
              "      <td>40.47%</td>\n",
              "      <td>59.53%</td>\n",
              "      <td>24</td>\n",
              "      <td>1.000000</td>\n",
              "    </tr>\n",
              "  </tbody>\n",
              "</table>\n",
              "</div>"
            ],
            "text/plain": [
              "    Months on Book  Policies  ...  month MonthlyRetention\n",
              "0                1     18140  ...      1         0.979217\n",
              "1                2     14400  ...      2         0.935369\n",
              "2                3     11492  ...      3         0.954168\n",
              "3                4      8994  ...      4         0.963471\n",
              "4                5      6908  ...      5         0.970770\n",
              "5                6      4912  ...      6         0.978291\n",
              "6                7      3515  ...      7         0.984043\n",
              "7                8      2514  ...      8         0.982415\n",
              "8                9      1811  ...      9         0.989617\n",
              "9               10      1374  ...     10         0.988489\n",
              "10              11       946  ...     11         0.992655\n",
              "11              12       648  ...     12         0.986301\n",
              "12              13       444  ...     13         0.993289\n",
              "13              14       294  ...     14         0.996610\n",
              "14              15       209  ...     15         0.995238\n",
              "15              16       153  ...     16         0.993506\n",
              "16              17        87  ...     17         0.988636\n",
              "17              18        60  ...     18         0.967742\n",
              "18              19        31  ...     19         0.968750\n",
              "19              20        16  ...     20         1.000000\n",
              "20              21        14  ...     21         1.000000\n",
              "21              22        14  ...     22         1.000000\n",
              "22              23         9  ...     23         1.000000\n",
              "23              24         6  ...     24         1.000000\n",
              "\n",
              "[24 rows x 8 columns]"
            ]
          },
          "metadata": {
            "tags": []
          },
          "execution_count": 5
        }
      ]
    },
    {
      "cell_type": "code",
      "metadata": {
        "id": "KCAxcGLvxo-H",
        "colab_type": "code",
        "cellView": "form",
        "colab": {
          "base_uri": "https://localhost:8080/",
          "height": 221
        },
        "outputId": "de921ce1-f19e-438e-dd5e-e15f01deea6b"
      },
      "source": [
        "#@title\n",
        "from functools import reduce\n",
        "df['CumulativeRetention'] = df['MonthlyRetention'].index.map(lambda i: reduce(lambda x, y: x*y, df[df.index <= i]['MonthlyRetention']))\n",
        "df['CumulativeChurch'] = 1 - df['CumulativeRetention']"
      ],
      "execution_count": null,
      "outputs": [
        {
          "output_type": "stream",
          "text": [
            "/usr/local/lib/python3.6/dist-packages/ipykernel_launcher.py:3: SettingWithCopyWarning: \n",
            "A value is trying to be set on a copy of a slice from a DataFrame.\n",
            "Try using .loc[row_indexer,col_indexer] = value instead\n",
            "\n",
            "See the caveats in the documentation: https://pandas.pydata.org/pandas-docs/stable/user_guide/indexing.html#returning-a-view-versus-a-copy\n",
            "  This is separate from the ipykernel package so we can avoid doing imports until\n",
            "/usr/local/lib/python3.6/dist-packages/ipykernel_launcher.py:4: SettingWithCopyWarning: \n",
            "A value is trying to be set on a copy of a slice from a DataFrame.\n",
            "Try using .loc[row_indexer,col_indexer] = value instead\n",
            "\n",
            "See the caveats in the documentation: https://pandas.pydata.org/pandas-docs/stable/user_guide/indexing.html#returning-a-view-versus-a-copy\n",
            "  after removing the cwd from sys.path.\n"
          ],
          "name": "stderr"
        }
      ]
    },
    {
      "cell_type": "code",
      "metadata": {
        "id": "egNZTMT4Prim",
        "colab_type": "code",
        "cellView": "form",
        "colab": {}
      },
      "source": [
        "#@title\n",
        "# df"
      ],
      "execution_count": null,
      "outputs": []
    },
    {
      "cell_type": "code",
      "metadata": {
        "id": "IY3og7Xe2mSM",
        "colab_type": "code",
        "cellView": "both",
        "colab": {
          "base_uri": "https://localhost:8080/",
          "height": 265
        },
        "outputId": "1e8f11c0-4d23-4b6e-b90c-ceadac50130c"
      },
      "source": [
        "#@title\n",
        "import matplotlib.pyplot as plt\n",
        "df = df[df.index < 18]\n",
        "plt.plot(df['CumulativeRetention'])\n",
        "#plt.plot(df['CumulativeChurch'])\n",
        "plt.show()"
      ],
      "execution_count": null,
      "outputs": [
        {
          "output_type": "display_data",
          "data": {
            "image/png": "[encoded data removed]",
            "text/plain": [
              "<Figure size 432x288 with 1 Axes>"
            ]
          },
          "metadata": {
            "tags": [],
            "needs_background": "light"
          }
        }
      ]
    },
    {
      "cell_type": "code",
      "metadata": {
        "id": "LrSLEWwk4DSk",
        "colab_type": "code",
        "cellView": "both",
        "colab": {}
      },
      "source": [
        "#@title\n",
        "import numpy as np\n",
        "import matplotlib.pyplot as plt\n",
        "from scipy.optimize import curve_fit\n",
        "\n",
        "key = 'CumulativeRetention'\n",
        "# key = 'MonthlyRetention'\n",
        "x = df[key].index\n",
        "y = df[key].values\n",
        "\n",
        "\n",
        "\n",
        "\n",
        "discount = 0.995735 # for every month\n",
        "# discount = 1\n",
        "def get_lf(func, popt, discount, limit=240):\n",
        "  px = range(limit)\n",
        "  py = [func(x, *popt) for x in px]\n",
        "  expected_lifetime = 0\n",
        "  for i, v in enumerate(py):\n",
        "    expected_lifetime += v *(discount ** i)\n",
        "    if v < 0.01: break\n",
        "  return expected_lifetime\n",
        "\n",
        "def get_lfv(func, popt, discount, limit=240):\n",
        "  px = range(limit)\n",
        "  py = [func(x, *popt) for x in px]\n",
        "  expected_lifetime = 0\n",
        "  for i, v in enumerate(py):\n",
        "    expected_lifetime += v *(discount ** i) * 154.17 * (0.125 if i < 12 else 0.11)\n",
        "    if v < 0.01:\n",
        "      break\n",
        "  return expected_lifetime\n",
        "\n",
        "def show_option(func, factor=None, formula=None):\n",
        "    popt, pcov = curve_fit(func, x, y)\n",
        "    a, b, c, d = popt\n",
        "    a = factor or a\n",
        "    # print(round(a, 4))\n",
        "    if formula is not None:\n",
        "        print('Formula: ', formula.format(a=round(a, 4), b=round(b, 4), c=round(c, 4), d=round(d, 4)))\n",
        "    else:\n",
        "        print('Formula: ', f'Y = {round(a, 4)}*log({round(b, 4)}*(x+{round(d, 4)})) + {round(c, 4)}')\n",
        "    # print('Formula: ', f'Y = {round(a, 4)}*log({round(b, 4)}*(x+{round(d, 4)})) + {round(c, 4)}')\n",
        "    print('Retention of 240th month: ', round(func(240, *popt), 4))\n",
        "    print('Expected Lifetime(years) in 240 months:', round(get_lf(func, popt, 1)/12))\n",
        "    print('Non-restricted Expected Lifetime:', round(get_lf(func, popt, 1, 10000)/12))\n",
        "\n",
        "    print('NonRestricted Discounted LTV:', round(get_lfv(func, popt, discount, limit=10000)))\n",
        "    print('Discounted LTV in 240 months:', round(get_lfv(func, popt, discount, limit=240)))\n",
        "    # perr = np.sqrt(np.diag(pcov))\n",
        "    plt.figure()\n",
        "    plt.plot(x, y, 'ko', label=\"Original Data\")\n",
        "    x1 = x\n",
        "    plt.plot(x1, func(x1, *popt), 'r-', label=\"Fitted Curve\")\n",
        "    plt.legend()\n",
        "    plt.show()\n",
        "\n",
        "    x1 = np.array(range(240))\n",
        "    y1 = func(x1, *popt)\n",
        "    plt.figure()\n",
        "    plt.plot(x, y, 'ko', label=\"Original Data\")\n",
        "\n",
        "    plt.plot(x1, y1, 'r-', label=\"Fitted Curve\")\n",
        "    plt.legend()\n",
        "    plt.show()"
      ],
      "execution_count": null,
      "outputs": []
    },
    {
      "cell_type": "markdown",
      "metadata": {
        "id": "BwKXHEBWJiaE",
        "colab_type": "text"
      },
      "source": [
        "# Options"
      ]
    },
    {
      "cell_type": "code",
      "metadata": {
        "id": "eQXoO4C6R-RB",
        "colab_type": "code",
        "colab": {
          "base_uri": "https://localhost:8080/",
          "height": 617
        },
        "outputId": "e09682d7-61e6-467c-9b84-56913b0da1cc"
      },
      "source": [
        "# original fit without any magic\n",
        "def func(x, a, b, c, d):\n",
        "    # return a*np.log(b*(x+1)) + c\n",
        "    return a*np.log(b*(x+1)) + c\n",
        "import warnings\n",
        "with warnings.catch_warnings():\n",
        "    warnings.simplefilter(\"ignore\")\n",
        "    show_option(func)"
      ],
      "execution_count": null,
      "outputs": [
        {
          "output_type": "stream",
          "text": [
            "Formula:  Y = -0.0938*log(4.1088*(x+1.0)) + 1.1074\n",
            "Retention of 240th month:  0.4603\n",
            "Expected Lifetime(years) in 240 months: 11.0\n",
            "Non-restricted Expected Lifetime: 170.0\n",
            "NonRestricted Discounted LTV: 2074.0\n",
            "Discounted LTV in 240 months: 1495.0\n"
          ],
          "name": "stdout"
        },
        {
          "output_type": "display_data",
          "data": {
            "image/png": "[encoded data removed]",
            "text/plain": [
              "<Figure size 432x288 with 1 Axes>"
            ]
          },
          "metadata": {
            "tags": [],
            "needs_background": "light"
          }
        },
        {
          "output_type": "display_data",
          "data": {
            "image/png": "[encoded data removed]",
            "text/plain": [
              "<Figure size 432x288 with 1 Axes>"
            ]
          },
          "metadata": {
            "tags": [],
            "needs_background": "light"
          }
        }
      ]
    },
    {
      "cell_type": "code",
      "metadata": {
        "id": "axSe8_ZQ7xMT",
        "colab_type": "code",
        "colab": {
          "base_uri": "https://localhost:8080/",
          "height": 615
        },
        "outputId": "5d9cb5db-3114-43e0-f0dd-cf29531a3438"
      },
      "source": [
        "# drop to 0.1 at 240th month\n",
        "def func(x, a, b, c, d):\n",
        "    # return a*np.log(b*(x+1)) + c\n",
        "    return -0.262*np.log(b*(x+d)) + c\n",
        "import warnings\n",
        "with warnings.catch_warnings():\n",
        "    warnings.simplefilter(\"ignore\")\n",
        "    show_option(func, -0.26)"
      ],
      "execution_count": null,
      "outputs": [
        {
          "output_type": "stream",
          "text": [
            "Formula:  Y = -0.26*log(0.7189*(x+11.2216)) + 1.4702\n",
            "Retention of 240th month:  0.1088\n",
            "Expected Lifetime(years) in 240 months: 7.0\n",
            "Non-restricted Expected Lifetime: 7.0\n",
            "NonRestricted Discounted LTV: 1049.0\n",
            "Discounted LTV in 240 months: 1015.0\n"
          ],
          "name": "stdout"
        },
        {
          "output_type": "display_data",
          "data": {
            "image/png": "[encoded data removed]",
            "text/plain": [
              "<Figure size 432x288 with 1 Axes>"
            ]
          },
          "metadata": {
            "tags": [],
            "needs_background": "light"
          }
        },
        {
          "output_type": "display_data",
          "data": {
            "image/png": "[encoded data removed]",
            "text/plain": [
              "<Figure size 432x288 with 1 Axes>"
            ]
          },
          "metadata": {
            "tags": [],
            "needs_background": "light"
          }
        }
      ]
    },
    {
      "cell_type": "code",
      "metadata": {
        "id": "8SQ8zPg2ianW",
        "colab_type": "code",
        "colab": {
          "base_uri": "https://localhost:8080/",
          "height": 615
        },
        "outputId": "3038fbfc-b907-4bef-efa6-d2ab14bbfc9c"
      },
      "source": [
        "# drop to 0.2 at 240th month\n",
        "factor = -0.21\n",
        "def func(x, a, b, c, d):\n",
        "    # return a*np.log(b*(x+1)) + c\n",
        "    return factor*np.log(b*(x+d)) + c\n",
        "import warnings\n",
        "with warnings.catch_warnings():\n",
        "    warnings.simplefilter(\"ignore\")\n",
        "    show_option(func, factor)"
      ],
      "execution_count": null,
      "outputs": [
        {
          "output_type": "stream",
          "text": [
            "Formula:  Y = -0.21*log(0.4882*(x+7.5502)) + 1.2053\n",
            "Retention of 240th month:  0.1984\n",
            "Expected Lifetime(years) in 240 months: 8.0\n",
            "Non-restricted Expected Lifetime: 10.0\n",
            "NonRestricted Discounted LTV: 1256.0\n",
            "Discounted LTV in 240 months: 1129.0\n"
          ],
          "name": "stdout"
        },
        {
          "output_type": "display_data",
          "data": {
            "image/png": "[encoded data removed]",
            "text/plain": [
              "<Figure size 432x288 with 1 Axes>"
            ]
          },
          "metadata": {
            "tags": [],
            "needs_background": "light"
          }
        },
        {
          "output_type": "display_data",
          "data": {
            "image/png": "[encoded data removed]",
            "text/plain": [
              "<Figure size 432x288 with 1 Axes>"
            ]
          },
          "metadata": {
            "tags": [],
            "needs_background": "light"
          }
        }
      ]
    },
    {
      "cell_type": "code",
      "metadata": {
        "id": "bjcc79FgFoCA",
        "colab_type": "code",
        "colab": {
          "base_uri": "https://localhost:8080/",
          "height": 615
        },
        "outputId": "23c539fd-7cfb-4c98-9186-3d3e5691b7cb"
      },
      "source": [
        "# drop to 0.15 at 240th month\n",
        "factor = -0.237\n",
        "def func(x, a, b, c, d):\n",
        "    # return a*np.log(b*(x+1)) + c\n",
        "    return factor*np.log(b*(x+d)) + c\n",
        "import warnings\n",
        "with warnings.catch_warnings():\n",
        "    warnings.simplefilter(\"ignore\")\n",
        "    show_option(func, factor)"
      ],
      "execution_count": null,
      "outputs": [
        {
          "output_type": "stream",
          "text": [
            "Formula:  Y = -0.237*log(1.3143*(x+9.4355)) + 1.5233\n",
            "Retention of 240th month:  0.1505\n",
            "Expected Lifetime(years) in 240 months: 7.0\n",
            "Non-restricted Expected Lifetime: 8.0\n",
            "NonRestricted Discounted LTV: 1136.0\n",
            "Discounted LTV in 240 months: 1067.0\n"
          ],
          "name": "stdout"
        },
        {
          "output_type": "display_data",
          "data": {
            "image/png": "[encoded data removed]",
            "text/plain": [
              "<Figure size 432x288 with 1 Axes>"
            ]
          },
          "metadata": {
            "tags": [],
            "needs_background": "light"
          }
        },
        {
          "output_type": "display_data",
          "data": {
            "image/png": "[encoded data removed]",
            "text/plain": [
              "<Figure size 432x288 with 1 Axes>"
            ]
          },
          "metadata": {
            "tags": [],
            "needs_background": "light"
          }
        }
      ]
    },
    {
      "cell_type": "code",
      "metadata": {
        "id": "7VOLyKYvJg_e",
        "colab_type": "code",
        "colab": {
          "base_uri": "https://localhost:8080/",
          "height": 617
        },
        "outputId": "b711221d-ab7a-4438-9b00-3d8fe7096d02"
      },
      "source": [
        "# NEW FIT: drop to 0.1 at 240th month\n",
        "# Changed the form a little bit to make it more interpretable\n",
        "\n",
        "def func(x, a, b, c, d):\n",
        "    # return a*np.log(b*(x+1)) + c\n",
        "    return a*(x + 1)**(-0.7) + b + c*(x)**0.59\n",
        "import warnings\n",
        "with warnings.catch_warnings():\n",
        "    warnings.simplefilter(\"ignore\")\n",
        "    show_option(func, formula='{a}*(x + 1)^(-0.7) + {b} + {c}*(x)^0.59')"
      ],
      "execution_count": null,
      "outputs": [
        {
          "output_type": "stream",
          "text": [
            "Formula:  0.1526*(x + 1)^(-0.7) + 0.8359 + -0.0288*(x)^0.59\n",
            "Retention of 240th month:  0.1085\n",
            "Expected Lifetime(years) in 240 months: 8.0\n",
            "Non-restricted Expected Lifetime: 8.0\n",
            "NonRestricted Discounted LTV: 1172.0\n",
            "Discounted LTV in 240 months: 1153.0\n"
          ],
          "name": "stdout"
        },
        {
          "output_type": "display_data",
          "data": {
            "image/png": "[encoded data removed]",
            "text/plain": [
              "<Figure size 432x288 with 1 Axes>"
            ]
          },
          "metadata": {
            "tags": [],
            "needs_background": "light"
          }
        },
        {
          "output_type": "display_data",
          "data": {
            "image/png": "[encoded data removed]",
            "text/plain": [
              "<Figure size 432x288 with 1 Axes>"
            ]
          },
          "metadata": {
            "tags": [],
            "needs_background": "light"
          }
        }
      ]
    }
  ]
}